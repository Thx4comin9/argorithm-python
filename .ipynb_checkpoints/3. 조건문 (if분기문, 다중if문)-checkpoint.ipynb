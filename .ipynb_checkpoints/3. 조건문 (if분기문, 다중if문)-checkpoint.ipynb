{
 "cells": [
  {
   "cell_type": "code",
   "execution_count": 2,
   "id": "9045fde5",
   "metadata": {
    "scrolled": true
   },
   "outputs": [
    {
     "name": "stdout",
     "output_type": "stream",
     "text": [
      "lucky\n",
      "ㅋㅋ\n"
     ]
    }
   ],
   "source": [
    "x = 7\n",
    "if x == 7:\n",
    "    print(\"lucky\")\n",
    "    print(\"ㅋㅋ\")"
   ]
  },
  {
   "cell_type": "code",
   "execution_count": 12,
   "id": "517e0b6a",
   "metadata": {},
   "outputs": [
    {
     "name": "stdout",
     "output_type": "stream",
     "text": [
      "lucky\n",
      "ㅋㅋ\n"
     ]
    }
   ],
   "source": [
    "x = 5\n",
    "if x != 7:\n",
    "    print(\"lucky\")\n",
    "    print(\"ㅋㅋ\")"
   ]
  },
  {
   "cell_type": "markdown",
   "id": "2bd84ec6",
   "metadata": {},
   "source": [
    "# 중첩 if문"
   ]
  },
  {
   "cell_type": "code",
   "execution_count": 14,
   "id": "e5a53f46",
   "metadata": {},
   "outputs": [
    {
     "name": "stdout",
     "output_type": "stream",
     "text": [
      "10이상의 홀수\n"
     ]
    }
   ],
   "source": [
    "x = 15\n",
    "if x>=10:\n",
    "    if x%2 == 1:\n",
    "        print(\"10이상의 홀수\")"
   ]
  },
  {
   "cell_type": "code",
   "execution_count": 21,
   "id": "1093c9b5",
   "metadata": {},
   "outputs": [],
   "source": [
    "# 논리연산자로 하면 위랑 똑같음"
   ]
  },
  {
   "cell_type": "code",
   "execution_count": 19,
   "id": "da72a4f6",
   "metadata": {},
   "outputs": [
    {
     "name": "stdout",
     "output_type": "stream",
     "text": [
      "10보다 작은 자연수\n"
     ]
    }
   ],
   "source": [
    "x = 7\n",
    "if x > 0 and x <10:\n",
    "    print(\"10보다 작은 자연수\")"
   ]
  },
  {
   "cell_type": "code",
   "execution_count": 22,
   "id": "3cb2886b",
   "metadata": {},
   "outputs": [],
   "source": [
    "# and연산자를 안 써도 같은 결과 가능"
   ]
  },
  {
   "cell_type": "code",
   "execution_count": 24,
   "id": "6bf96d4f",
   "metadata": {},
   "outputs": [
    {
     "name": "stdout",
     "output_type": "stream",
     "text": [
      "10보다 작은 자연수\n"
     ]
    }
   ],
   "source": [
    "x = 7\n",
    "if 0<x<10:\n",
    "    print(\"10보다 작은 자연수\")"
   ]
  },
  {
   "cell_type": "markdown",
   "id": "65ec56cd",
   "metadata": {},
   "source": [
    "# 분기 if문"
   ]
  },
  {
   "cell_type": "code",
   "execution_count": 25,
   "id": "5ee6fdad",
   "metadata": {},
   "outputs": [
    {
     "name": "stdout",
     "output_type": "stream",
     "text": [
      "10보다 큰 자연수\n"
     ]
    }
   ],
   "source": [
    "x = 10\n",
    "if x>0:\n",
    "    if x < 10:\n",
    "        print(\"10보다 작은 자연수\")\n",
    "    else:\n",
    "        print(\"10보다 큰 자연수\")"
   ]
  },
  {
   "cell_type": "code",
   "execution_count": 26,
   "id": "98b0a15e",
   "metadata": {},
   "outputs": [
    {
     "name": "stdout",
     "output_type": "stream",
     "text": [
      "양수\n"
     ]
    }
   ],
   "source": [
    "x = 10\n",
    "if x>0:\n",
    "    print(\"양수\")\n",
    "else:\n",
    "    print(\"음수\")"
   ]
  },
  {
   "cell_type": "code",
   "execution_count": 27,
   "id": "56196d06",
   "metadata": {},
   "outputs": [
    {
     "name": "stdout",
     "output_type": "stream",
     "text": [
      "A\n"
     ]
    }
   ],
   "source": [
    "x = 93\n",
    "if x>=90:\n",
    "    print(\"A\")\n",
    "elif x>=80:\n",
    "    print(\"B\")\n",
    "elif x>=70:\n",
    "    print(\"C\")\n",
    "elif x>=60:\n",
    "    print(\"D\")\n",
    "else:\n",
    "    print(\"F\")"
   ]
  },
  {
   "cell_type": "code",
   "execution_count": 29,
   "id": "fb6fcd36",
   "metadata": {},
   "outputs": [
    {
     "name": "stdout",
     "output_type": "stream",
     "text": [
      "A\n",
      "B\n",
      "c\n"
     ]
    }
   ],
   "source": [
    "# if만 3개인 경우=다중분기가 아닌 겨우??? 조건이 모두 충족되므로 출력되게한다.(별개의 식 3개가 있다고 생각하면 쉽다.)\n",
    "\n",
    "x = 93\n",
    "if x>=90:\n",
    "    print(\"A\")\n",
    "if x>=80:\n",
    "    print(\"B\")\n",
    "if x>=70:\n",
    "    print(\"c\")"
   ]
  },
  {
   "cell_type": "code",
   "execution_count": null,
   "id": "b8d03195",
   "metadata": {},
   "outputs": [],
   "source": []
  }
 ],
 "metadata": {
  "kernelspec": {
   "display_name": "ML",
   "language": "python",
   "name": "pytorch"
  },
  "language_info": {
   "codemirror_mode": {
    "name": "ipython",
    "version": 3
   },
   "file_extension": ".py",
   "mimetype": "text/x-python",
   "name": "python",
   "nbconvert_exporter": "python",
   "pygments_lexer": "ipython3",
   "version": "3.7.13"
  }
 },
 "nbformat": 4,
 "nbformat_minor": 5
}
