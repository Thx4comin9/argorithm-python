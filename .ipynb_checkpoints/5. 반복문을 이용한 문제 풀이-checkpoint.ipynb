{
 "cells": [
  {
   "cell_type": "markdown",
   "id": "a156327e",
   "metadata": {},
   "source": [
    "# 반복문을 이용한 문제풀이 \n",
    "\n",
    "1) 1부터 N까지 홀수출력하기  \n",
    "2) 1부터 N까지의 합 구하기  \n",
    "3) N의 약수출력하기  "
   ]
  },
  {
   "cell_type": "markdown",
   "id": "cfbdf697",
   "metadata": {},
   "source": [
    "# 완전중요 10까지 넣으려면 10에다가 1을 더해야한다.   \n",
    "# 그리고 input은 기본으로는 문자형str이다!!!!!!!!!!!!!"
   ]
  },
  {
   "cell_type": "code",
   "execution_count": null,
   "id": "290e78b3",
   "metadata": {},
   "outputs": [],
   "source": [
    "n=int(input())\n",
    "for i in range(1, n+1):\n",
    "    print(i)"
   ]
  },
  {
   "cell_type": "code",
   "execution_count": null,
   "id": "ba5ac3bb",
   "metadata": {},
   "outputs": [],
   "source": [
    "n=int(input())\n",
    "for i in range(1, n+1):\n",
    "    print(i)"
   ]
  },
  {
   "cell_type": "code",
   "execution_count": null,
   "id": "106bd9f8",
   "metadata": {},
   "outputs": [],
   "source": []
  }
 ],
 "metadata": {
  "kernelspec": {
   "display_name": "ML",
   "language": "python",
   "name": "pytorch"
  },
  "language_info": {
   "codemirror_mode": {
    "name": "ipython",
    "version": 3
   },
   "file_extension": ".py",
   "mimetype": "text/x-python",
   "name": "python",
   "nbconvert_exporter": "python",
   "pygments_lexer": "ipython3",
   "version": "3.7.13"
  }
 },
 "nbformat": 4,
 "nbformat_minor": 5
}
