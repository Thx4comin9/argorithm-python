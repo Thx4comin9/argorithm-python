{
 "cells": [
  {
   "cell_type": "markdown",
   "id": "40ebe57c",
   "metadata": {},
   "source": [
    "반복문을 하기 전에 range함수를 먼저 알아야한다."
   ]
  },
  {
   "cell_type": "code",
   "execution_count": 2,
   "id": "62b20c93",
   "metadata": {},
   "outputs": [],
   "source": [
    "a= range(10) #순차적으로 정수 리스트를 만든다. 0~9까지"
   ]
  },
  {
   "cell_type": "code",
   "execution_count": 4,
   "id": "20a3840b",
   "metadata": {},
   "outputs": [
    {
     "name": "stdout",
     "output_type": "stream",
     "text": [
      "[0, 1, 2, 3, 4, 5, 6, 7, 8, 9]\n"
     ]
    }
   ],
   "source": [
    "print(list(a))"
   ]
  },
  {
   "cell_type": "code",
   "execution_count": 5,
   "id": "4a011131",
   "metadata": {},
   "outputs": [
    {
     "name": "stdout",
     "output_type": "stream",
     "text": [
      "[1, 2, 3, 4, 5, 6, 7, 8, 9, 10]\n"
     ]
    }
   ],
   "source": [
    "a= range(1,11) # 1부터 10까지\n",
    "print(list(a))"
   ]
  },
  {
   "cell_type": "markdown",
   "id": "f4ef3ab4",
   "metadata": {},
   "source": [
    "# for문"
   ]
  },
  {
   "cell_type": "code",
   "execution_count": 6,
   "id": "d172bf84",
   "metadata": {},
   "outputs": [
    {
     "name": "stdout",
     "output_type": "stream",
     "text": [
      "hello\n",
      "hello\n",
      "hello\n",
      "hello\n",
      "hello\n",
      "hello\n",
      "hello\n",
      "hello\n",
      "hello\n",
      "hello\n"
     ]
    }
   ],
   "source": [
    "for i in range(10): # 10번을 반복하게 된당.\n",
    "    print(\"hello\") # hello 10번 반복"
   ]
  },
  {
   "cell_type": "code",
   "execution_count": 8,
   "id": "5a8dacbc",
   "metadata": {},
   "outputs": [
    {
     "name": "stdout",
     "output_type": "stream",
     "text": [
      "0\n",
      "1\n",
      "2\n",
      "3\n",
      "4\n",
      "5\n",
      "6\n",
      "7\n",
      "8\n",
      "9\n"
     ]
    }
   ],
   "source": [
    "for i in range(10): # 10번을 반복하게 된당.\n",
    "    print(i)"
   ]
  },
  {
   "cell_type": "code",
   "execution_count": 9,
   "id": "d1b32ea0",
   "metadata": {},
   "outputs": [
    {
     "name": "stdout",
     "output_type": "stream",
     "text": [
      "1\n",
      "2\n",
      "3\n",
      "4\n",
      "5\n",
      "6\n",
      "7\n",
      "8\n",
      "9\n",
      "10\n"
     ]
    }
   ],
   "source": [
    "for i in range(1,11): # 10번을 반복하게 된당.\n",
    "    print(i)"
   ]
  },
  {
   "cell_type": "markdown",
   "id": "25effaef",
   "metadata": {},
   "source": [
    "### range범위는 반대로도 가능하다!!"
   ]
  },
  {
   "cell_type": "code",
   "execution_count": 10,
   "id": "e07181ba",
   "metadata": {},
   "outputs": [],
   "source": [
    "for i in range(10,0): \n",
    "    print(i)"
   ]
  },
  {
   "cell_type": "markdown",
   "id": "a3c15902",
   "metadata": {},
   "source": [
    "### 아무일도 안 일어난다."
   ]
  },
  {
   "cell_type": "code",
   "execution_count": 13,
   "id": "f95117be",
   "metadata": {},
   "outputs": [
    {
     "name": "stdout",
     "output_type": "stream",
     "text": [
      "10\n",
      "9\n",
      "8\n",
      "7\n",
      "6\n",
      "5\n",
      "4\n",
      "3\n",
      "2\n",
      "1\n"
     ]
    }
   ],
   "source": [
    "for i in range(10,0,-1):  # 작아지게 하려면 -를 붙여야한다.\n",
    "    print(i)"
   ]
  },
  {
   "cell_type": "code",
   "execution_count": 14,
   "id": "56b12ee3",
   "metadata": {},
   "outputs": [
    {
     "name": "stdout",
     "output_type": "stream",
     "text": [
      "10\n",
      "8\n",
      "6\n",
      "4\n",
      "2\n"
     ]
    }
   ],
   "source": [
    "for i in range(10,0,-2): \n",
    "    print(i)"
   ]
  },
  {
   "cell_type": "markdown",
   "id": "c897843c",
   "metadata": {},
   "source": [
    "# While문"
   ]
  },
  {
   "cell_type": "code",
   "execution_count": 16,
   "id": "5854d328",
   "metadata": {},
   "outputs": [
    {
     "name": "stdout",
     "output_type": "stream",
     "text": [
      "1\n",
      "2\n",
      "3\n",
      "4\n",
      "5\n",
      "6\n",
      "7\n",
      "8\n",
      "9\n",
      "10\n"
     ]
    }
   ],
   "source": [
    "# wihle문은 먼저 변수 초기화를 해줘야한다.\n",
    "\n",
    "i = 1\n",
    "while i<=10:\n",
    "    print(i)\n",
    "    i=i+1\n",
    "    "
   ]
  },
  {
   "cell_type": "code",
   "execution_count": 17,
   "id": "8189dff3",
   "metadata": {},
   "outputs": [
    {
     "name": "stdout",
     "output_type": "stream",
     "text": [
      "10\n",
      "9\n",
      "8\n",
      "7\n",
      "6\n",
      "5\n",
      "4\n",
      "3\n",
      "2\n",
      "1\n"
     ]
    }
   ],
   "source": [
    "i = 10\n",
    "while i>=1:\n",
    "    print(i)\n",
    "    i=i-1"
   ]
  },
  {
   "cell_type": "markdown",
   "id": "57c84d80",
   "metadata": {},
   "source": [
    "# Break"
   ]
  },
  {
   "cell_type": "code",
   "execution_count": 20,
   "id": "1537c3a9",
   "metadata": {},
   "outputs": [
    {
     "name": "stdout",
     "output_type": "stream",
     "text": [
      "1\n",
      "2\n",
      "3\n",
      "4\n",
      "5\n",
      "6\n",
      "7\n",
      "8\n",
      "9\n",
      "10\n"
     ]
    }
   ],
   "source": [
    "i =1\n",
    "while True: #무한반복을 하는 거다\n",
    "    print(i)\n",
    "    if i ==10:\n",
    "        break # i가 10이면 브레이크해버리기\n",
    "    i+=1 # i = i+1을 축약해서 만든거"
   ]
  },
  {
   "cell_type": "code",
   "execution_count": 22,
   "id": "dc7438bf",
   "metadata": {},
   "outputs": [
    {
     "name": "stdout",
     "output_type": "stream",
     "text": [
      "1\n",
      "2\n",
      "3\n",
      "4\n",
      "5\n",
      "6\n",
      "7\n",
      "8\n",
      "9\n",
      "10\n"
     ]
    }
   ],
   "source": [
    "# 이렇게도 쓸 수 있다.\n",
    "i =1\n",
    "while i<=10:\n",
    "    print(i)\n",
    "    if i ==10:\n",
    "        break # i가 10이면 브레이크해버리기\n",
    "    i+=1 # i = i+1을 축약해서 만든거"
   ]
  },
  {
   "cell_type": "markdown",
   "id": "c1ace690",
   "metadata": {},
   "source": [
    "# continue"
   ]
  },
  {
   "cell_type": "code",
   "execution_count": 24,
   "id": "438016a9",
   "metadata": {},
   "outputs": [
    {
     "name": "stdout",
     "output_type": "stream",
     "text": [
      "1\n",
      "3\n",
      "5\n",
      "7\n",
      "9\n"
     ]
    }
   ],
   "source": [
    "for i in range(1,11): #나는 짝수드들 건너뛰고 홀수만 출력하고 싶어,.\n",
    "    if i%2 == 0: #얘네들은 짝수\n",
    "        continue #짝수 = 참을 만족하면 밑에 있는 모든 부분을 생략하고 건너뛰어버리기기\n",
    "    print(i)"
   ]
  },
  {
   "cell_type": "markdown",
   "id": "bc44ff59",
   "metadata": {},
   "source": [
    "# For else구문"
   ]
  },
  {
   "cell_type": "code",
   "execution_count": 26,
   "id": "85aa316a",
   "metadata": {},
   "outputs": [
    {
     "name": "stdout",
     "output_type": "stream",
     "text": [
      "1\n",
      "2\n",
      "3\n",
      "4\n",
      "5\n"
     ]
    }
   ],
   "source": [
    "for i in range(1,11):\n",
    "    print(i)\n",
    "    if i == 5:\n",
    "        break\n",
    "else:\n",
    "    print(11)\n",
    "    \n",
    "# for문이 1부터10까지 돌다가 브레이크가 걸리는데..중간에 break로 끝나버리면 else를 돌지 않는다.\n",
    "근데 break없이 정상적으로 종료되면"
   ]
  },
  {
   "cell_type": "code",
   "execution_count": 27,
   "id": "e2336101",
   "metadata": {},
   "outputs": [
    {
     "name": "stdout",
     "output_type": "stream",
     "text": [
      "1\n",
      "2\n",
      "3\n",
      "4\n",
      "5\n",
      "6\n",
      "7\n",
      "8\n",
      "9\n",
      "10\n",
      "11\n"
     ]
    }
   ],
   "source": [
    "for i in range(1,11):\n",
    "    print(i)\n",
    "    if i >15:\n",
    "        break\n",
    "else:\n",
    "    print(11)\n",
    "    \n",
    "# for문이 1부터10까지 돌다가 브레이크가 걸리는데..중간에 break로 끝나버리면 else를 돌지 않는다.\n",
    "# 근데 break 안 당하고 정상적으로 종료되면 else를 출력하는 것이다."
   ]
  },
  {
   "cell_type": "code",
   "execution_count": null,
   "id": "98da6b5c",
   "metadata": {},
   "outputs": [],
   "source": []
  }
 ],
 "metadata": {
  "kernelspec": {
   "display_name": "ML",
   "language": "python",
   "name": "pytorch"
  },
  "language_info": {
   "codemirror_mode": {
    "name": "ipython",
    "version": 3
   },
   "file_extension": ".py",
   "mimetype": "text/x-python",
   "name": "python",
   "nbconvert_exporter": "python",
   "pygments_lexer": "ipython3",
   "version": "3.7.13"
  }
 },
 "nbformat": 4,
 "nbformat_minor": 5
}
