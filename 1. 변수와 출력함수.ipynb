{
 "cells": [
  {
   "cell_type": "markdown",
   "id": "731d04af",
   "metadata": {},
   "source": [
    "# 변수명 정하기\n",
    "1) 영문과 숫자, _로 이루어진다.  \n",
    "2) 대소문자를 구분한다.  \n",
    "3) 문자나 , _로 시작한다    \n",
    "4) 특수문자 사용 X  \n",
    "5) 키워드 사용 X (if, for = 예약어)  "
   ]
  },
  {
   "cell_type": "code",
   "execution_count": 1,
   "id": "b75313c0",
   "metadata": {},
   "outputs": [
    {
     "name": "stdout",
     "output_type": "stream",
     "text": [
      "1 2 3\n"
     ]
    }
   ],
   "source": [
    "a = 1\n",
    "A = 2\n",
    "A1 = 3\n",
    "print(a,A,A1)"
   ]
  },
  {
   "cell_type": "code",
   "execution_count": 4,
   "id": "7f1f9cc5",
   "metadata": {},
   "outputs": [],
   "source": [
    "# 한 꺼번에 여러개 변수를 만들수있음!!, 그리고 위에 먼저 만든 값은 기존값이 날라가유"
   ]
  },
  {
   "cell_type": "code",
   "execution_count": 5,
   "id": "74eb5786",
   "metadata": {},
   "outputs": [
    {
     "name": "stdout",
     "output_type": "stream",
     "text": [
      "3 2 1\n"
     ]
    }
   ],
   "source": [
    "a , b, c = 3,2,1\n",
    "print(a,b,c)"
   ]
  },
  {
   "cell_type": "markdown",
   "id": "dfa1b4fe",
   "metadata": {},
   "source": [
    "# 값 교환"
   ]
  },
  {
   "cell_type": "code",
   "execution_count": 7,
   "id": "cfd52bb8",
   "metadata": {},
   "outputs": [
    {
     "name": "stdout",
     "output_type": "stream",
     "text": [
      "10 20\n"
     ]
    }
   ],
   "source": [
    "a, b = 10,20\n",
    "print(a,b)"
   ]
  },
  {
   "cell_type": "code",
   "execution_count": 10,
   "id": "d9da5e42",
   "metadata": {},
   "outputs": [],
   "source": [
    "a, b = b, a"
   ]
  },
  {
   "cell_type": "code",
   "execution_count": 11,
   "id": "12907d64",
   "metadata": {},
   "outputs": [
    {
     "name": "stdout",
     "output_type": "stream",
     "text": [
      "20 10\n"
     ]
    }
   ],
   "source": [
    "print(a,b)"
   ]
  },
  {
   "cell_type": "markdown",
   "id": "00d32ea6",
   "metadata": {},
   "source": [
    "# 변수타입\n"
   ]
  },
  {
   "cell_type": "code",
   "execution_count": 12,
   "id": "1efec0fb",
   "metadata": {},
   "outputs": [
    {
     "name": "stdout",
     "output_type": "stream",
     "text": [
      "<class 'int'>\n"
     ]
    }
   ],
   "source": [
    "a =12345\n",
    "print(type(a))"
   ]
  },
  {
   "cell_type": "code",
   "execution_count": 19,
   "id": "604555ea",
   "metadata": {},
   "outputs": [
    {
     "name": "stdout",
     "output_type": "stream",
     "text": [
      "12.213312321214358\n",
      "<class 'float'>\n"
     ]
    }
   ],
   "source": [
    "a = 12.21331232121435891278474954288501348753891959402858432942\n",
    "print(a)\n",
    "print(type(a))\n",
    "# 실수는 8바이트 용량만 출력가능하다!!!!\n",
    "# 1바이트는 비트가 8개, 8바이트는 64비트\n"
   ]
  },
  {
   "cell_type": "code",
   "execution_count": 18,
   "id": "a763fb42",
   "metadata": {},
   "outputs": [
    {
     "name": "stdout",
     "output_type": "stream",
     "text": [
      "student\n",
      "<class 'str'>\n"
     ]
    }
   ],
   "source": [
    "a = 'student'\n",
    "print(a)\n",
    "print(type(a))"
   ]
  },
  {
   "cell_type": "markdown",
   "id": "f0efb87d",
   "metadata": {},
   "source": [
    "# 출력 방식"
   ]
  },
  {
   "cell_type": "code",
   "execution_count": 20,
   "id": "f2660437",
   "metadata": {},
   "outputs": [
    {
     "name": "stdout",
     "output_type": "stream",
     "text": [
      "number\n"
     ]
    }
   ],
   "source": [
    "print(\"number\")"
   ]
  },
  {
   "cell_type": "code",
   "execution_count": 21,
   "id": "40a5f3f2",
   "metadata": {},
   "outputs": [
    {
     "name": "stdout",
     "output_type": "stream",
     "text": [
      "1 2 3\n"
     ]
    }
   ],
   "source": [
    "a,b,c, =1,2,3\n",
    "print(a,b,c)"
   ]
  },
  {
   "cell_type": "code",
   "execution_count": 22,
   "id": "0a4caed7",
   "metadata": {},
   "outputs": [
    {
     "name": "stdout",
     "output_type": "stream",
     "text": [
      "number 1 2 3\n"
     ]
    }
   ],
   "source": [
    "print(\"number\",a,b,c)"
   ]
  },
  {
   "cell_type": "code",
   "execution_count": 23,
   "id": "b43382af",
   "metadata": {},
   "outputs": [
    {
     "name": "stdout",
     "output_type": "stream",
     "text": [
      "number :  1 2 3\n"
     ]
    }
   ],
   "source": [
    "print(\"number : \",a,b,c)"
   ]
  },
  {
   "cell_type": "code",
   "execution_count": 24,
   "id": "8467c032",
   "metadata": {},
   "outputs": [
    {
     "name": "stdout",
     "output_type": "stream",
     "text": [
      "1, 2, 3\n"
     ]
    }
   ],
   "source": [
    "# 띄어쓰기하기\n",
    "print(a,b,c,sep=', ')"
   ]
  },
  {
   "cell_type": "code",
   "execution_count": 25,
   "id": "fbf12881",
   "metadata": {},
   "outputs": [
    {
     "name": "stdout",
     "output_type": "stream",
     "text": [
      "1,2,3\n"
     ]
    }
   ],
   "source": [
    "print(a,b,c,sep=',')"
   ]
  },
  {
   "cell_type": "code",
   "execution_count": 26,
   "id": "fd4fb1e5",
   "metadata": {},
   "outputs": [
    {
     "name": "stdout",
     "output_type": "stream",
     "text": [
      "1 , 2 , 3\n"
     ]
    }
   ],
   "source": [
    "print(a,b,c,sep=' , ')"
   ]
  },
  {
   "cell_type": "code",
   "execution_count": 27,
   "id": "9caadb3b",
   "metadata": {},
   "outputs": [
    {
     "name": "stdout",
     "output_type": "stream",
     "text": [
      "1\n",
      "2\n",
      "3\n"
     ]
    }
   ],
   "source": [
    "print(a,b,c,sep='\\n')"
   ]
  },
  {
   "cell_type": "code",
   "execution_count": 28,
   "id": "27ffd834",
   "metadata": {},
   "outputs": [
    {
     "name": "stdout",
     "output_type": "stream",
     "text": [
      "1\n",
      "2\n",
      "3\n"
     ]
    }
   ],
   "source": [
    "print(a)\n",
    "print(b)\n",
    "print(c) # 자동으로 줄바꿈 있음"
   ]
  },
  {
   "cell_type": "code",
   "execution_count": 29,
   "id": "c4fb5e8b",
   "metadata": {},
   "outputs": [
    {
     "name": "stdout",
     "output_type": "stream",
     "text": [
      "123"
     ]
    }
   ],
   "source": [
    "print(a, end='')\n",
    "print(b, end='')\n",
    "print(c, end='') # 줄바꿈 없애기"
   ]
  },
  {
   "cell_type": "code",
   "execution_count": null,
   "id": "06231ea2",
   "metadata": {},
   "outputs": [],
   "source": [
    "input()"
   ]
  }
 ],
 "metadata": {
  "kernelspec": {
   "display_name": "Python 3 (ipykernel)",
   "language": "python",
   "name": "python3"
  },
  "language_info": {
   "codemirror_mode": {
    "name": "ipython",
    "version": 3
   },
   "file_extension": ".py",
   "mimetype": "text/x-python",
   "name": "python",
   "nbconvert_exporter": "python",
   "pygments_lexer": "ipython3",
   "version": "3.7.13"
  }
 },
 "nbformat": 4,
 "nbformat_minor": 5
}
