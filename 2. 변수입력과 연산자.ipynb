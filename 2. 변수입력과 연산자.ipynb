{
 "cells": [
  {
   "cell_type": "markdown",
   "id": "77f90cd6",
   "metadata": {
    "id": "77f90cd6"
   },
   "source": [
    "# 1. input으로 변수입력"
   ]
  },
  {
   "cell_type": "code",
   "execution_count": null,
   "id": "dcfbeaa7",
   "metadata": {
    "id": "dcfbeaa7",
    "outputId": "891e3867-8cd2-4237-f94f-51eb23062530"
   },
   "outputs": [],
   "source": [
    "#키보드를 통해서 a라는 변수값을 입력하고 싶으면? = input\n",
    "a = input()\n",
    "print(a)\n"
   ]
  },
  {
   "cell_type": "code",
   "execution_count": null,
   "id": "a1b1aa0a",
   "metadata": {
    "id": "a1b1aa0a",
    "outputId": "fcbf7d72-d300-47ef-e560-06e634fcc9ec"
   },
   "outputs": [
    {
     "name": "stdout",
     "output_type": "stream",
     "text": [
      "숫자를 입력하세요 : 5\n",
      "5\n"
     ]
    }
   ],
   "source": [
    "a = input(\"숫자를 입력하세요 : \")\n",
    "print(a)"
   ]
  },
  {
   "cell_type": "markdown",
   "id": "0b713860",
   "metadata": {
    "id": "0b713860"
   },
   "source": [
    "# 2. 여러 변수입력 "
   ]
  },
  {
   "cell_type": "code",
   "execution_count": null,
   "id": "d027e545",
   "metadata": {
    "id": "d027e545",
    "outputId": "ddd2c2f5-02ef-4aec-af41-52e1bba5fdcc"
   },
   "outputs": [
    {
     "name": "stdout",
     "output_type": "stream",
     "text": [
      "숫자를 입력하세요 : 2 51\n",
      "2 51\n"
     ]
    }
   ],
   "source": [
    "a, b = input(\"숫자를 입력하세요 : \").split() # split은 2와 3을 분리시켜준다.\n",
    "print(a,b )\n"
   ]
  },
  {
   "cell_type": "markdown",
   "id": "81f0b4c6",
   "metadata": {
    "id": "81f0b4c6"
   },
   "source": [
    "### 만약에 연산을 하고 싶어서 print(a+b)를 한다면?"
   ]
  },
  {
   "cell_type": "code",
   "execution_count": null,
   "id": "7d10543b",
   "metadata": {
    "id": "7d10543b",
    "outputId": "d56e1c03-d385-4bf7-b904-052b1e1717dc"
   },
   "outputs": [
    {
     "name": "stdout",
     "output_type": "stream",
     "text": [
      "숫자를 입력하세요 : 2 3\n",
      "23\n"
     ]
    }
   ],
   "source": [
    "a, b = input(\"숫자를 입력하세요 : \").split()\n",
    "print(a + b) "
   ]
  },
  {
   "cell_type": "markdown",
   "id": "c383c8b8",
   "metadata": {
    "id": "c383c8b8"
   },
   "source": [
    "### 연산이 안 되는 이유 : str으로 출력되기 때문이다! = 연결된다라고 보는게 맞다."
   ]
  },
  {
   "cell_type": "code",
   "execution_count": null,
   "id": "99d6bf5f",
   "metadata": {
    "id": "99d6bf5f",
    "outputId": "e38dad2c-30f5-4696-af56-e6dd39aba03c",
    "scrolled": true
   },
   "outputs": [
    {
     "name": "stdout",
     "output_type": "stream",
     "text": [
      "<class 'str'>\n"
     ]
    }
   ],
   "source": [
    "print(type(a))"
   ]
  },
  {
   "cell_type": "markdown",
   "id": "0c4d542a",
   "metadata": {
    "id": "0c4d542a"
   },
   "source": [
    "### 연산을 하려면 int형으로 바꿔야 한다,."
   ]
  },
  {
   "cell_type": "code",
   "execution_count": null,
   "id": "e61d1bef",
   "metadata": {
    "id": "e61d1bef",
    "outputId": "fc623f59-f198-4145-d61d-7d0aa807d3ef"
   },
   "outputs": [
    {
     "name": "stdout",
     "output_type": "stream",
     "text": [
      "숫자를 입력하세요 : 2 54\n",
      "56\n"
     ]
    }
   ],
   "source": [
    "a, b = input(\"숫자를 입력하세요 : \").split()\n",
    "a = int(a)\n",
    "b = int(b)\n",
    "\n",
    "print(a+b)\n"
   ]
  },
  {
   "cell_type": "markdown",
   "id": "5910577f",
   "metadata": {
    "id": "5910577f"
   },
   "source": [
    "### 바로 계산할 수 있는 코드가 있다!! = 어제 풀은 백준 1000번 문제 소름;;"
   ]
  },
  {
   "cell_type": "code",
   "execution_count": null,
   "id": "13b14d2d",
   "metadata": {
    "id": "13b14d2d",
    "outputId": "d741ed66-113e-42d2-87ee-a7cd265f1f0e"
   },
   "outputs": [],
   "source": [
    "a, b = map(int, input(\"숫자를 입력하세요 : \").split())\n",
    "print(a+b)\n",
    "# map이라는 함수는 2 개의 인자,"
   ]
  },
  {
   "cell_type": "code",
   "execution_count": null,
   "id": "54419f47",
   "metadata": {
    "id": "54419f47",
    "outputId": "e3e43715-5c25-4aed-f4b7-5f991186aea5"
   },
   "outputs": [],
   "source": [
    "a, b = map(int, input(\"숫자를 입력하세요 : \").split())\n",
    "print(a+b)\n",
    "print(a-b)\n",
    "print(a*b)\n",
    "print(a/b)\n",
    "print(a//b) # 몫 연산\n",
    "print(a%b) # 나머지\n",
    "print(a**b) # 거듭제곱 2의 3 제곱"
   ]
  },
  {
   "cell_type": "code",
   "execution_count": null,
   "id": "66b9b90a",
   "metadata": {
    "id": "66b9b90a",
    "outputId": "1840a33e-bfbe-4c28-e4b1-c7da7fe8fe4a"
   },
   "outputs": [
    {
     "name": "stdout",
     "output_type": "stream",
     "text": [
      "<class 'float'>\n"
     ]
    }
   ],
   "source": [
    "a = 4.3\n",
    "b = 5\n",
    "c = a+b #실수형+ 정수형 = 실수형\n",
    "print(type(c))"
   ]
  },
  {
   "cell_type": "code",
   "execution_count": null,
   "id": "37b60039",
   "metadata": {},
   "outputs": [],
   "source": []
  }
 ],
 "metadata": {
  "colab": {
   "provenance": []
  },
  "kernelspec": {
   "display_name": "Python 3 (ipykernel)",
   "language": "python",
   "name": "python3"
  },
  "language_info": {
   "codemirror_mode": {
    "name": "ipython",
    "version": 3
   },
   "file_extension": ".py",
   "mimetype": "text/x-python",
   "name": "python",
   "nbconvert_exporter": "python",
   "pygments_lexer": "ipython3",
   "version": "3.7.13"
  }
 },
 "nbformat": 4,
 "nbformat_minor": 5
}
